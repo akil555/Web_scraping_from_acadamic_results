{
  "cells": [
    {
      "cell_type": "code",
      "execution_count": null,
      "metadata": {
        "id": "2qAOz5q8ai7j"
      },
      "outputs": [],
      "source": [
        "# @title Default title text\n",
        "URL = \"https://results.kongu.edu/mmxxivre/mmxxivreo.php\" # @param {type:\"string\"}\n",
        "student_database_path = \"/content/AI-DS-DOB (1).xlsx\" # @param {type:\"string\"}"
      ]
    },
    {
      "cell_type": "code",
      "execution_count": null,
      "metadata": {
        "id": "mf90hsQTax-E"
      },
      "outputs": [],
      "source": [
        "import requests\n",
        "import pandas as pd\n",
        "from bs4 import BeautifulSoup\n",
        "import csv\n",
        "\n",
        "\n",
        "df = pd.read_excel(student_database_path)\n",
        "\n",
        "data = df.to_dict(orient='records')\n",
        "\n",
        "result_to_excel = []\n",
        "columnes_names = ['roll_number']\n",
        "\n",
        "with requests.Session() as session:\n",
        "    for entry in data:\n",
        "        roll = entry['Roll No.']\n",
        "        dob = entry['Date of Birth']\n",
        "\n",
        "        payload = {\n",
        "            \"regno\": roll,\n",
        "            \"dob\": dob\n",
        "        }\n",
        "\n",
        "        try:\n",
        "            response = session.post(URL, data=payload)\n",
        "\n",
        "            response.raise_for_status()\n",
        "\n",
        "            soup = BeautifulSoup(response.content, 'html5lib')\n",
        "\n",
        "            new = soup.find('div')\n",
        "            if not new or not new.table:\n",
        "                continue\n",
        "\n",
        "            k = new.table.tbody.findAll('td')\n",
        "            table = soup.findAll('table')[1]\n",
        "\n",
        "            quote = {'roll_number': k[2].font.text}\n",
        "\n",
        "            for row in table.findAll('tr')[1:]:\n",
        "                subject_names = row.findAll('td')[2].text\n",
        "                grade = row.findAll('th')[1].text\n",
        "                quote[subject_names] = grade\n",
        "\n",
        "                if subject_names not in columnes_names:\n",
        "                    columnes_names.append(subject_names)\n",
        "\n",
        "            result_to_excel.append(quote)\n",
        "\n",
        "        except Exception as e:\n",
        "            print(f\"Error processing roll number {roll}: {e}\")\n",
        "\n",
        "\n",
        "filename = 'results.csv'\n",
        "with open(filename, 'w', newline='') as f:\n",
        "    w = csv.DictWriter(f, columnes_names)\n",
        "    w.writeheader()\n",
        "    w.writerows(result_to_excel)\n"
      ]
    }
  ],
  "metadata": {
    "colab": {
      "provenance": []
    },
    "kernelspec": {
      "display_name": "Python 3",
      "name": "python3"
    },
    "language_info": {
      "name": "python"
    }
  },
  "nbformat": 4,
  "nbformat_minor": 0
}
